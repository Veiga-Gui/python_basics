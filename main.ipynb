{
 "cells": [
  {
   "cell_type": "markdown",
   "metadata": {},
   "source": [
    "### Começar sempre criando um ambiente virtual\n",
    "- python -m venv venv\n",
    "- Ativando com .\\venv\\Scripts\\Activate.ps1    "
   ]
  },
  {
   "cell_type": "markdown",
   "metadata": {},
   "source": [
    "### Por que usar ambientes virtuais?\n",
    "- Isolamento de dependências\n",
    "    - Cada projeto tem suas próprias versões de biblis e pacotes, evitando conflitos etc.\n",
    "- Facilidade de gerenciamento\n",
    "    - Facilita a instalação, atualização e remoção de pacotes sem afetar o sistema Python global.\n",
    "    - Simplifica a manutenção do ambiente, já que você pode simplesmente recriar o ambiente virtual em caso de problemas.\n",
    "- Reprodutibilidade\n",
    "- Segurança\n",
    "    - Limitando possíveis erros e malwares a um ambiente isolado e não global"
   ]
  },
  {
   "cell_type": "code",
   "execution_count": null,
   "metadata": {
    "vscode": {
     "languageId": "plaintext"
    }
   },
   "outputs": [],
   "source": [
    "### Configurando o git\n",
    "git config --global user.name \"Veiga-Gui\"\n",
    "git config --global user.email \"veigacareca@gmail.com.br\"\n",
    "\n",
    "- stage changes\n",
    "    - git add .\n",
    "    - git add Specific File\n",
    "\n",
    "- commit\n",
    "    - git commit -m \"Mensagem descritiva do commit\"\n",
    "\n",
    "- verifica estado da árvore na branch\n",
    "    - git status\n",
    "\n",
    "- Clone te repository created in github\n",
    "    - git remote add origin https://github.com/seu_usuario/seu_repositorio.git\n",
    "\n",
    "- Faz o commit para o github criado\n",
    "    - git push -u origin master+\n",
    "\n"
   ]
  }
 ],
 "metadata": {
  "language_info": {
   "name": "python"
  }
 },
 "nbformat": 4,
 "nbformat_minor": 2
}
